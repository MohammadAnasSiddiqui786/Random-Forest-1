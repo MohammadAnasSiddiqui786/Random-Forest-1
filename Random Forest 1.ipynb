{
 "cells": [
  {
   "cell_type": "code",
   "execution_count": 1,
   "metadata": {
    "ExecuteTime": {
     "end_time": "2021-12-28T21:03:37.388176Z",
     "start_time": "2021-12-28T21:03:15.723254Z"
    }
   },
   "outputs": [],
   "source": [
    "from pandas import read_csv\n",
    "from sklearn.model_selection import KFold\n",
    "from sklearn.model_selection import cross_val_score\n",
    "from sklearn.ensemble import RandomForestClassifier\n",
    "import pandas as pd\n",
    "from sklearn.model_selection import train_test_split\n",
    "from sklearn.metrics import accuracy_score, confusion_matrix"
   ]
  },
  {
   "cell_type": "code",
   "execution_count": 2,
   "metadata": {
    "ExecuteTime": {
     "end_time": "2021-12-28T21:03:37.715421Z",
     "start_time": "2021-12-28T21:03:37.429845Z"
    }
   },
   "outputs": [],
   "source": [
    "df= read_csv(\"Fraud_check (1).csv\")"
   ]
  },
  {
   "cell_type": "code",
   "execution_count": 32,
   "metadata": {
    "ExecuteTime": {
     "end_time": "2021-12-28T21:06:28.418249Z",
     "start_time": "2021-12-28T21:06:28.391590Z"
    }
   },
   "outputs": [
    {
     "data": {
      "text/html": [
       "<div>\n",
       "<style scoped>\n",
       "    .dataframe tbody tr th:only-of-type {\n",
       "        vertical-align: middle;\n",
       "    }\n",
       "\n",
       "    .dataframe tbody tr th {\n",
       "        vertical-align: top;\n",
       "    }\n",
       "\n",
       "    .dataframe thead th {\n",
       "        text-align: right;\n",
       "    }\n",
       "</style>\n",
       "<table border=\"1\" class=\"dataframe\">\n",
       "  <thead>\n",
       "    <tr style=\"text-align: right;\">\n",
       "      <th></th>\n",
       "      <th>City.Population</th>\n",
       "      <th>Work.Experience</th>\n",
       "      <th>Undergrad_NO</th>\n",
       "      <th>Undergrad_YES</th>\n",
       "      <th>Marital.Status_Divorced</th>\n",
       "      <th>Marital.Status_Married</th>\n",
       "      <th>Marital.Status_Single</th>\n",
       "      <th>Urban_NO</th>\n",
       "      <th>Urban_YES</th>\n",
       "      <th>TaxableIncome</th>\n",
       "    </tr>\n",
       "  </thead>\n",
       "  <tbody>\n",
       "    <tr>\n",
       "      <th>0</th>\n",
       "      <td>50047</td>\n",
       "      <td>10</td>\n",
       "      <td>1</td>\n",
       "      <td>0</td>\n",
       "      <td>0</td>\n",
       "      <td>0</td>\n",
       "      <td>1</td>\n",
       "      <td>0</td>\n",
       "      <td>1</td>\n",
       "      <td>good</td>\n",
       "    </tr>\n",
       "    <tr>\n",
       "      <th>1</th>\n",
       "      <td>134075</td>\n",
       "      <td>18</td>\n",
       "      <td>0</td>\n",
       "      <td>1</td>\n",
       "      <td>1</td>\n",
       "      <td>0</td>\n",
       "      <td>0</td>\n",
       "      <td>0</td>\n",
       "      <td>1</td>\n",
       "      <td>good</td>\n",
       "    </tr>\n",
       "    <tr>\n",
       "      <th>2</th>\n",
       "      <td>160205</td>\n",
       "      <td>30</td>\n",
       "      <td>1</td>\n",
       "      <td>0</td>\n",
       "      <td>0</td>\n",
       "      <td>1</td>\n",
       "      <td>0</td>\n",
       "      <td>0</td>\n",
       "      <td>1</td>\n",
       "      <td>good</td>\n",
       "    </tr>\n",
       "    <tr>\n",
       "      <th>3</th>\n",
       "      <td>193264</td>\n",
       "      <td>15</td>\n",
       "      <td>0</td>\n",
       "      <td>1</td>\n",
       "      <td>0</td>\n",
       "      <td>0</td>\n",
       "      <td>1</td>\n",
       "      <td>0</td>\n",
       "      <td>1</td>\n",
       "      <td>good</td>\n",
       "    </tr>\n",
       "    <tr>\n",
       "      <th>4</th>\n",
       "      <td>27533</td>\n",
       "      <td>28</td>\n",
       "      <td>1</td>\n",
       "      <td>0</td>\n",
       "      <td>0</td>\n",
       "      <td>1</td>\n",
       "      <td>0</td>\n",
       "      <td>1</td>\n",
       "      <td>0</td>\n",
       "      <td>good</td>\n",
       "    </tr>\n",
       "    <tr>\n",
       "      <th>...</th>\n",
       "      <td>...</td>\n",
       "      <td>...</td>\n",
       "      <td>...</td>\n",
       "      <td>...</td>\n",
       "      <td>...</td>\n",
       "      <td>...</td>\n",
       "      <td>...</td>\n",
       "      <td>...</td>\n",
       "      <td>...</td>\n",
       "      <td>...</td>\n",
       "    </tr>\n",
       "    <tr>\n",
       "      <th>595</th>\n",
       "      <td>39492</td>\n",
       "      <td>7</td>\n",
       "      <td>0</td>\n",
       "      <td>1</td>\n",
       "      <td>1</td>\n",
       "      <td>0</td>\n",
       "      <td>0</td>\n",
       "      <td>0</td>\n",
       "      <td>1</td>\n",
       "      <td>good</td>\n",
       "    </tr>\n",
       "    <tr>\n",
       "      <th>596</th>\n",
       "      <td>55369</td>\n",
       "      <td>2</td>\n",
       "      <td>0</td>\n",
       "      <td>1</td>\n",
       "      <td>1</td>\n",
       "      <td>0</td>\n",
       "      <td>0</td>\n",
       "      <td>0</td>\n",
       "      <td>1</td>\n",
       "      <td>good</td>\n",
       "    </tr>\n",
       "    <tr>\n",
       "      <th>597</th>\n",
       "      <td>154058</td>\n",
       "      <td>0</td>\n",
       "      <td>1</td>\n",
       "      <td>0</td>\n",
       "      <td>1</td>\n",
       "      <td>0</td>\n",
       "      <td>0</td>\n",
       "      <td>0</td>\n",
       "      <td>1</td>\n",
       "      <td>good</td>\n",
       "    </tr>\n",
       "    <tr>\n",
       "      <th>598</th>\n",
       "      <td>180083</td>\n",
       "      <td>17</td>\n",
       "      <td>0</td>\n",
       "      <td>1</td>\n",
       "      <td>0</td>\n",
       "      <td>1</td>\n",
       "      <td>0</td>\n",
       "      <td>1</td>\n",
       "      <td>0</td>\n",
       "      <td>good</td>\n",
       "    </tr>\n",
       "    <tr>\n",
       "      <th>599</th>\n",
       "      <td>158137</td>\n",
       "      <td>16</td>\n",
       "      <td>1</td>\n",
       "      <td>0</td>\n",
       "      <td>1</td>\n",
       "      <td>0</td>\n",
       "      <td>0</td>\n",
       "      <td>1</td>\n",
       "      <td>0</td>\n",
       "      <td>good</td>\n",
       "    </tr>\n",
       "  </tbody>\n",
       "</table>\n",
       "<p>600 rows × 10 columns</p>\n",
       "</div>"
      ],
      "text/plain": [
       "     City.Population  Work.Experience  Undergrad_NO  Undergrad_YES  \\\n",
       "0              50047               10             1              0   \n",
       "1             134075               18             0              1   \n",
       "2             160205               30             1              0   \n",
       "3             193264               15             0              1   \n",
       "4              27533               28             1              0   \n",
       "..               ...              ...           ...            ...   \n",
       "595            39492                7             0              1   \n",
       "596            55369                2             0              1   \n",
       "597           154058                0             1              0   \n",
       "598           180083               17             0              1   \n",
       "599           158137               16             1              0   \n",
       "\n",
       "     Marital.Status_Divorced  Marital.Status_Married  Marital.Status_Single  \\\n",
       "0                          0                       0                      1   \n",
       "1                          1                       0                      0   \n",
       "2                          0                       1                      0   \n",
       "3                          0                       0                      1   \n",
       "4                          0                       1                      0   \n",
       "..                       ...                     ...                    ...   \n",
       "595                        1                       0                      0   \n",
       "596                        1                       0                      0   \n",
       "597                        1                       0                      0   \n",
       "598                        0                       1                      0   \n",
       "599                        1                       0                      0   \n",
       "\n",
       "     Urban_NO  Urban_YES TaxableIncome  \n",
       "0           0          1          good  \n",
       "1           0          1          good  \n",
       "2           0          1          good  \n",
       "3           0          1          good  \n",
       "4           1          0          good  \n",
       "..        ...        ...           ...  \n",
       "595         0          1          good  \n",
       "596         0          1          good  \n",
       "597         0          1          good  \n",
       "598         1          0          good  \n",
       "599         1          0          good  \n",
       "\n",
       "[600 rows x 10 columns]"
      ]
     },
     "execution_count": 32,
     "metadata": {},
     "output_type": "execute_result"
    }
   ],
   "source": [
    "df"
   ]
  },
  {
   "cell_type": "code",
   "execution_count": 4,
   "metadata": {
    "ExecuteTime": {
     "end_time": "2021-12-28T21:03:38.091428Z",
     "start_time": "2021-12-28T21:03:37.985769Z"
    }
   },
   "outputs": [],
   "source": [
    "df = pd.get_dummies(df, columns =['Undergrad','Marital.Status','Urban'])"
   ]
  },
  {
   "cell_type": "code",
   "execution_count": 5,
   "metadata": {
    "ExecuteTime": {
     "end_time": "2021-12-28T21:03:38.295520Z",
     "start_time": "2021-12-28T21:03:38.156980Z"
    }
   },
   "outputs": [
    {
     "data": {
      "text/html": [
       "<div>\n",
       "<style scoped>\n",
       "    .dataframe tbody tr th:only-of-type {\n",
       "        vertical-align: middle;\n",
       "    }\n",
       "\n",
       "    .dataframe tbody tr th {\n",
       "        vertical-align: top;\n",
       "    }\n",
       "\n",
       "    .dataframe thead th {\n",
       "        text-align: right;\n",
       "    }\n",
       "</style>\n",
       "<table border=\"1\" class=\"dataframe\">\n",
       "  <thead>\n",
       "    <tr style=\"text-align: right;\">\n",
       "      <th></th>\n",
       "      <th>Taxable.Income</th>\n",
       "      <th>City.Population</th>\n",
       "      <th>Work.Experience</th>\n",
       "      <th>Undergrad_NO</th>\n",
       "      <th>Undergrad_YES</th>\n",
       "      <th>Marital.Status_Divorced</th>\n",
       "      <th>Marital.Status_Married</th>\n",
       "      <th>Marital.Status_Single</th>\n",
       "      <th>Urban_NO</th>\n",
       "      <th>Urban_YES</th>\n",
       "    </tr>\n",
       "  </thead>\n",
       "  <tbody>\n",
       "    <tr>\n",
       "      <th>0</th>\n",
       "      <td>68833</td>\n",
       "      <td>50047</td>\n",
       "      <td>10</td>\n",
       "      <td>1</td>\n",
       "      <td>0</td>\n",
       "      <td>0</td>\n",
       "      <td>0</td>\n",
       "      <td>1</td>\n",
       "      <td>0</td>\n",
       "      <td>1</td>\n",
       "    </tr>\n",
       "    <tr>\n",
       "      <th>1</th>\n",
       "      <td>33700</td>\n",
       "      <td>134075</td>\n",
       "      <td>18</td>\n",
       "      <td>0</td>\n",
       "      <td>1</td>\n",
       "      <td>1</td>\n",
       "      <td>0</td>\n",
       "      <td>0</td>\n",
       "      <td>0</td>\n",
       "      <td>1</td>\n",
       "    </tr>\n",
       "    <tr>\n",
       "      <th>2</th>\n",
       "      <td>36925</td>\n",
       "      <td>160205</td>\n",
       "      <td>30</td>\n",
       "      <td>1</td>\n",
       "      <td>0</td>\n",
       "      <td>0</td>\n",
       "      <td>1</td>\n",
       "      <td>0</td>\n",
       "      <td>0</td>\n",
       "      <td>1</td>\n",
       "    </tr>\n",
       "    <tr>\n",
       "      <th>3</th>\n",
       "      <td>50190</td>\n",
       "      <td>193264</td>\n",
       "      <td>15</td>\n",
       "      <td>0</td>\n",
       "      <td>1</td>\n",
       "      <td>0</td>\n",
       "      <td>0</td>\n",
       "      <td>1</td>\n",
       "      <td>0</td>\n",
       "      <td>1</td>\n",
       "    </tr>\n",
       "    <tr>\n",
       "      <th>4</th>\n",
       "      <td>81002</td>\n",
       "      <td>27533</td>\n",
       "      <td>28</td>\n",
       "      <td>1</td>\n",
       "      <td>0</td>\n",
       "      <td>0</td>\n",
       "      <td>1</td>\n",
       "      <td>0</td>\n",
       "      <td>1</td>\n",
       "      <td>0</td>\n",
       "    </tr>\n",
       "  </tbody>\n",
       "</table>\n",
       "</div>"
      ],
      "text/plain": [
       "   Taxable.Income  City.Population  Work.Experience  Undergrad_NO  \\\n",
       "0           68833            50047               10             1   \n",
       "1           33700           134075               18             0   \n",
       "2           36925           160205               30             1   \n",
       "3           50190           193264               15             0   \n",
       "4           81002            27533               28             1   \n",
       "\n",
       "   Undergrad_YES  Marital.Status_Divorced  Marital.Status_Married  \\\n",
       "0              0                        0                       0   \n",
       "1              1                        1                       0   \n",
       "2              0                        0                       1   \n",
       "3              1                        0                       0   \n",
       "4              0                        0                       1   \n",
       "\n",
       "   Marital.Status_Single  Urban_NO  Urban_YES  \n",
       "0                      1         0          1  \n",
       "1                      0         0          1  \n",
       "2                      0         0          1  \n",
       "3                      1         0          1  \n",
       "4                      0         1          0  "
      ]
     },
     "execution_count": 5,
     "metadata": {},
     "output_type": "execute_result"
    }
   ],
   "source": [
    "df.head()"
   ]
  },
  {
   "cell_type": "code",
   "execution_count": 6,
   "metadata": {
    "ExecuteTime": {
     "end_time": "2021-12-28T21:03:39.125713Z",
     "start_time": "2021-12-28T21:03:38.360925Z"
    }
   },
   "outputs": [],
   "source": [
    "df['TaxableIncome']='good'\n",
    "df.loc[df['Taxable.Income'] <= 30000,'TaxableIncome'] = \"risk\"\n",
    "df.drop(['Taxable.Income'], axis=1,inplace = True)"
   ]
  },
  {
   "cell_type": "code",
   "execution_count": 26,
   "metadata": {
    "ExecuteTime": {
     "end_time": "2021-12-28T21:04:29.303432Z",
     "start_time": "2021-12-28T21:04:29.293444Z"
    }
   },
   "outputs": [
    {
     "data": {
      "text/plain": [
       "array([[50047, 10, 1, ..., 0, 1, 'good'],\n",
       "       [134075, 18, 0, ..., 0, 1, 'good'],\n",
       "       [160205, 30, 1, ..., 0, 1, 'good'],\n",
       "       ...,\n",
       "       [154058, 0, 1, ..., 0, 1, 'good'],\n",
       "       [180083, 17, 0, ..., 1, 0, 'good'],\n",
       "       [158137, 16, 1, ..., 1, 0, 'good']], dtype=object)"
      ]
     },
     "execution_count": 26,
     "metadata": {},
     "output_type": "execute_result"
    }
   ],
   "source": [
    "array = df.values\n",
    "array"
   ]
  },
  {
   "cell_type": "code",
   "execution_count": 8,
   "metadata": {
    "ExecuteTime": {
     "end_time": "2021-12-28T21:03:39.360815Z",
     "start_time": "2021-12-28T21:03:39.272221Z"
    }
   },
   "outputs": [
    {
     "data": {
      "text/html": [
       "<div>\n",
       "<style scoped>\n",
       "    .dataframe tbody tr th:only-of-type {\n",
       "        vertical-align: middle;\n",
       "    }\n",
       "\n",
       "    .dataframe tbody tr th {\n",
       "        vertical-align: top;\n",
       "    }\n",
       "\n",
       "    .dataframe thead th {\n",
       "        text-align: right;\n",
       "    }\n",
       "</style>\n",
       "<table border=\"1\" class=\"dataframe\">\n",
       "  <thead>\n",
       "    <tr style=\"text-align: right;\">\n",
       "      <th></th>\n",
       "      <th>City.Population</th>\n",
       "      <th>Work.Experience</th>\n",
       "      <th>Undergrad_NO</th>\n",
       "      <th>Undergrad_YES</th>\n",
       "      <th>Marital.Status_Divorced</th>\n",
       "      <th>Marital.Status_Married</th>\n",
       "      <th>Marital.Status_Single</th>\n",
       "      <th>Urban_NO</th>\n",
       "      <th>Urban_YES</th>\n",
       "      <th>TaxableIncome</th>\n",
       "    </tr>\n",
       "  </thead>\n",
       "  <tbody>\n",
       "    <tr>\n",
       "      <th>0</th>\n",
       "      <td>50047</td>\n",
       "      <td>10</td>\n",
       "      <td>1</td>\n",
       "      <td>0</td>\n",
       "      <td>0</td>\n",
       "      <td>0</td>\n",
       "      <td>1</td>\n",
       "      <td>0</td>\n",
       "      <td>1</td>\n",
       "      <td>good</td>\n",
       "    </tr>\n",
       "    <tr>\n",
       "      <th>1</th>\n",
       "      <td>134075</td>\n",
       "      <td>18</td>\n",
       "      <td>0</td>\n",
       "      <td>1</td>\n",
       "      <td>1</td>\n",
       "      <td>0</td>\n",
       "      <td>0</td>\n",
       "      <td>0</td>\n",
       "      <td>1</td>\n",
       "      <td>good</td>\n",
       "    </tr>\n",
       "    <tr>\n",
       "      <th>2</th>\n",
       "      <td>160205</td>\n",
       "      <td>30</td>\n",
       "      <td>1</td>\n",
       "      <td>0</td>\n",
       "      <td>0</td>\n",
       "      <td>1</td>\n",
       "      <td>0</td>\n",
       "      <td>0</td>\n",
       "      <td>1</td>\n",
       "      <td>good</td>\n",
       "    </tr>\n",
       "    <tr>\n",
       "      <th>3</th>\n",
       "      <td>193264</td>\n",
       "      <td>15</td>\n",
       "      <td>0</td>\n",
       "      <td>1</td>\n",
       "      <td>0</td>\n",
       "      <td>0</td>\n",
       "      <td>1</td>\n",
       "      <td>0</td>\n",
       "      <td>1</td>\n",
       "      <td>good</td>\n",
       "    </tr>\n",
       "    <tr>\n",
       "      <th>4</th>\n",
       "      <td>27533</td>\n",
       "      <td>28</td>\n",
       "      <td>1</td>\n",
       "      <td>0</td>\n",
       "      <td>0</td>\n",
       "      <td>1</td>\n",
       "      <td>0</td>\n",
       "      <td>1</td>\n",
       "      <td>0</td>\n",
       "      <td>good</td>\n",
       "    </tr>\n",
       "  </tbody>\n",
       "</table>\n",
       "</div>"
      ],
      "text/plain": [
       "   City.Population  Work.Experience  Undergrad_NO  Undergrad_YES  \\\n",
       "0            50047               10             1              0   \n",
       "1           134075               18             0              1   \n",
       "2           160205               30             1              0   \n",
       "3           193264               15             0              1   \n",
       "4            27533               28             1              0   \n",
       "\n",
       "   Marital.Status_Divorced  Marital.Status_Married  Marital.Status_Single  \\\n",
       "0                        0                       0                      1   \n",
       "1                        1                       0                      0   \n",
       "2                        0                       1                      0   \n",
       "3                        0                       0                      1   \n",
       "4                        0                       1                      0   \n",
       "\n",
       "   Urban_NO  Urban_YES TaxableIncome  \n",
       "0         0          1          good  \n",
       "1         0          1          good  \n",
       "2         0          1          good  \n",
       "3         0          1          good  \n",
       "4         1          0          good  "
      ]
     },
     "execution_count": 8,
     "metadata": {},
     "output_type": "execute_result"
    }
   ],
   "source": [
    "df.head()"
   ]
  },
  {
   "cell_type": "code",
   "execution_count": 9,
   "metadata": {
    "ExecuteTime": {
     "end_time": "2021-12-28T21:03:39.532361Z",
     "start_time": "2021-12-28T21:03:39.441323Z"
    }
   },
   "outputs": [],
   "source": [
    "x = array[:,0:9]\n",
    "y = array[:,9]"
   ]
  },
  {
   "cell_type": "code",
   "execution_count": 24,
   "metadata": {
    "ExecuteTime": {
     "end_time": "2021-12-28T21:04:12.669966Z",
     "start_time": "2021-12-28T21:04:12.655007Z"
    }
   },
   "outputs": [
    {
     "data": {
      "text/plain": [
       "array([[50047, 10, 1, ..., 1, 0, 1],\n",
       "       [134075, 18, 0, ..., 0, 0, 1],\n",
       "       [160205, 30, 1, ..., 0, 0, 1],\n",
       "       ...,\n",
       "       [154058, 0, 1, ..., 0, 0, 1],\n",
       "       [180083, 17, 0, ..., 0, 1, 0],\n",
       "       [158137, 16, 1, ..., 0, 1, 0]], dtype=object)"
      ]
     },
     "execution_count": 24,
     "metadata": {},
     "output_type": "execute_result"
    }
   ],
   "source": [
    "x "
   ]
  },
  {
   "cell_type": "code",
   "execution_count": 25,
   "metadata": {
    "ExecuteTime": {
     "end_time": "2021-12-28T21:04:16.229980Z",
     "start_time": "2021-12-28T21:04:16.209036Z"
    }
   },
   "outputs": [
    {
     "data": {
      "text/plain": [
       "array(['good', 'good', 'good', 'good', 'good', 'good', 'good', 'good',\n",
       "       'good', 'good', 'risk', 'good', 'risk', 'good', 'good', 'good',\n",
       "       'risk', 'good', 'good', 'risk', 'good', 'risk', 'good', 'good',\n",
       "       'good', 'good', 'good', 'good', 'risk', 'good', 'good', 'good',\n",
       "       'good', 'good', 'risk', 'good', 'risk', 'good', 'risk', 'good',\n",
       "       'good', 'good', 'good', 'good', 'good', 'good', 'good', 'good',\n",
       "       'risk', 'good', 'good', 'good', 'good', 'risk', 'good', 'risk',\n",
       "       'good', 'good', 'risk', 'good', 'good', 'risk', 'good', 'good',\n",
       "       'good', 'good', 'good', 'good', 'risk', 'good', 'good', 'good',\n",
       "       'good', 'good', 'good', 'good', 'good', 'good', 'good', 'risk',\n",
       "       'good', 'good', 'good', 'good', 'good', 'risk', 'good', 'risk',\n",
       "       'good', 'risk', 'good', 'good', 'good', 'risk', 'risk', 'good',\n",
       "       'risk', 'good', 'risk', 'good', 'good', 'good', 'good', 'good',\n",
       "       'good', 'good', 'risk', 'good', 'good', 'good', 'risk', 'good',\n",
       "       'good', 'good', 'risk', 'good', 'good', 'good', 'risk', 'good',\n",
       "       'good', 'risk', 'risk', 'risk', 'good', 'good', 'risk', 'good',\n",
       "       'good', 'good', 'good', 'good', 'good', 'good', 'good', 'risk',\n",
       "       'good', 'risk', 'good', 'good', 'risk', 'good', 'good', 'risk',\n",
       "       'good', 'good', 'good', 'good', 'good', 'good', 'good', 'good',\n",
       "       'risk', 'risk', 'risk', 'good', 'good', 'good', 'risk', 'good',\n",
       "       'good', 'good', 'good', 'risk', 'good', 'good', 'good', 'good',\n",
       "       'risk', 'good', 'good', 'risk', 'risk', 'good', 'good', 'good',\n",
       "       'good', 'good', 'good', 'risk', 'good', 'risk', 'risk', 'good',\n",
       "       'good', 'good', 'good', 'good', 'risk', 'good', 'good', 'good',\n",
       "       'good', 'good', 'risk', 'good', 'risk', 'good', 'good', 'risk',\n",
       "       'good', 'good', 'good', 'good', 'risk', 'risk', 'good', 'risk',\n",
       "       'good', 'good', 'good', 'good', 'good', 'good', 'good', 'good',\n",
       "       'good', 'good', 'good', 'risk', 'good', 'good', 'good', 'good',\n",
       "       'good', 'good', 'good', 'good', 'risk', 'good', 'risk', 'good',\n",
       "       'risk', 'risk', 'good', 'good', 'good', 'risk', 'good', 'good',\n",
       "       'good', 'risk', 'good', 'good', 'good', 'good', 'good', 'risk',\n",
       "       'risk', 'good', 'good', 'good', 'good', 'good', 'good', 'good',\n",
       "       'good', 'good', 'good', 'risk', 'good', 'good', 'good', 'good',\n",
       "       'good', 'risk', 'good', 'risk', 'good', 'good', 'good', 'good',\n",
       "       'good', 'good', 'good', 'good', 'good', 'good', 'risk', 'good',\n",
       "       'risk', 'good', 'good', 'good', 'risk', 'good', 'good', 'good',\n",
       "       'risk', 'good', 'good', 'good', 'risk', 'good', 'good', 'good',\n",
       "       'good', 'good', 'good', 'good', 'good', 'risk', 'good', 'good',\n",
       "       'good', 'good', 'good', 'good', 'good', 'good', 'good', 'good',\n",
       "       'good', 'good', 'good', 'risk', 'good', 'good', 'good', 'good',\n",
       "       'good', 'good', 'good', 'good', 'good', 'good', 'risk', 'risk',\n",
       "       'good', 'risk', 'good', 'risk', 'good', 'risk', 'good', 'good',\n",
       "       'good', 'risk', 'risk', 'risk', 'good', 'good', 'good', 'good',\n",
       "       'good', 'good', 'risk', 'risk', 'good', 'risk', 'good', 'good',\n",
       "       'risk', 'good', 'risk', 'good', 'risk', 'risk', 'good', 'good',\n",
       "       'good', 'good', 'risk', 'risk', 'good', 'good', 'good', 'risk',\n",
       "       'good', 'good', 'good', 'good', 'good', 'good', 'good', 'good',\n",
       "       'good', 'good', 'good', 'risk', 'good', 'good', 'good', 'good',\n",
       "       'good', 'good', 'good', 'good', 'good', 'good', 'good', 'good',\n",
       "       'risk', 'good', 'good', 'good', 'good', 'good', 'risk', 'good',\n",
       "       'good', 'good', 'good', 'good', 'good', 'good', 'good', 'good',\n",
       "       'good', 'good', 'good', 'good', 'good', 'good', 'good', 'good',\n",
       "       'good', 'good', 'good', 'good', 'good', 'good', 'good', 'good',\n",
       "       'good', 'good', 'good', 'good', 'risk', 'good', 'good', 'good',\n",
       "       'good', 'risk', 'risk', 'good', 'good', 'risk', 'risk', 'risk',\n",
       "       'good', 'good', 'good', 'risk', 'risk', 'good', 'risk', 'good',\n",
       "       'good', 'good', 'good', 'good', 'good', 'good', 'good', 'good',\n",
       "       'good', 'risk', 'risk', 'risk', 'good', 'good', 'risk', 'good',\n",
       "       'good', 'risk', 'good', 'good', 'good', 'good', 'good', 'risk',\n",
       "       'good', 'good', 'good', 'good', 'good', 'good', 'good', 'good',\n",
       "       'good', 'good', 'good', 'risk', 'good', 'good', 'good', 'good',\n",
       "       'good', 'good', 'good', 'risk', 'good', 'risk', 'good', 'good',\n",
       "       'good', 'good', 'good', 'good', 'good', 'good', 'good', 'good',\n",
       "       'good', 'good', 'risk', 'good', 'good', 'risk', 'good', 'good',\n",
       "       'good', 'good', 'good', 'good', 'good', 'risk', 'good', 'good',\n",
       "       'good', 'good', 'good', 'good', 'risk', 'good', 'risk', 'good',\n",
       "       'good', 'good', 'good', 'good', 'good', 'risk', 'good', 'good',\n",
       "       'good', 'good', 'good', 'good', 'risk', 'risk', 'good', 'good',\n",
       "       'risk', 'good', 'good', 'good', 'good', 'good', 'good', 'good',\n",
       "       'good', 'good', 'good', 'good', 'good', 'risk', 'good', 'good',\n",
       "       'good', 'good', 'good', 'good', 'good', 'good', 'good', 'risk',\n",
       "       'good', 'good', 'good', 'good', 'good', 'good', 'good', 'risk',\n",
       "       'good', 'good', 'good', 'good', 'good', 'good', 'good', 'good',\n",
       "       'good', 'good', 'good', 'good', 'good', 'good', 'good', 'risk',\n",
       "       'good', 'good', 'good', 'good', 'good', 'good', 'good', 'good'],\n",
       "      dtype=object)"
      ]
     },
     "execution_count": 25,
     "metadata": {},
     "output_type": "execute_result"
    }
   ],
   "source": [
    "y "
   ]
  },
  {
   "cell_type": "code",
   "execution_count": 10,
   "metadata": {
    "ExecuteTime": {
     "end_time": "2021-12-28T21:03:39.687692Z",
     "start_time": "2021-12-28T21:03:39.597360Z"
    }
   },
   "outputs": [],
   "source": [
    "x_train,x_test, y_train, y_test = train_test_split(x,y, test_size = 0.3)"
   ]
  },
  {
   "cell_type": "code",
   "execution_count": 23,
   "metadata": {
    "ExecuteTime": {
     "end_time": "2021-12-28T21:04:02.744675Z",
     "start_time": "2021-12-28T21:04:02.723732Z"
    }
   },
   "outputs": [
    {
     "data": {
      "text/plain": [
       "(array([[182562, 24, 1, ..., 0, 1, 0],\n",
       "        [74497, 21, 1, ..., 1, 1, 0],\n",
       "        [137948, 22, 0, ..., 1, 0, 1],\n",
       "        ...,\n",
       "        [191139, 12, 1, ..., 0, 0, 1],\n",
       "        [52227, 16, 0, ..., 1, 0, 1],\n",
       "        [195078, 26, 1, ..., 1, 1, 0]], dtype=object),\n",
       " array([[112591, 26, 0, ..., 1, 0, 1],\n",
       "        [137622, 2, 1, ..., 1, 0, 1],\n",
       "        [85128, 22, 1, ..., 0, 1, 0],\n",
       "        ...,\n",
       "        [161629, 29, 1, ..., 1, 0, 1],\n",
       "        [48025, 28, 1, ..., 1, 0, 1],\n",
       "        [54437, 21, 0, ..., 0, 0, 1]], dtype=object),\n",
       " array(['good', 'good', 'good', 'good', 'good', 'risk', 'good', 'good',\n",
       "        'good', 'good', 'good', 'good', 'good', 'good', 'good', 'good',\n",
       "        'good', 'risk', 'good', 'good', 'good', 'good', 'good', 'good',\n",
       "        'good', 'good', 'good', 'good', 'good', 'good', 'good', 'good',\n",
       "        'good', 'good', 'good', 'good', 'good', 'good', 'good', 'good',\n",
       "        'good', 'good', 'good', 'good', 'good', 'good', 'good', 'good',\n",
       "        'good', 'good', 'risk', 'risk', 'good', 'good', 'risk', 'good',\n",
       "        'good', 'good', 'risk', 'risk', 'good', 'good', 'good', 'good',\n",
       "        'good', 'risk', 'risk', 'risk', 'good', 'good', 'good', 'good',\n",
       "        'good', 'good', 'good', 'risk', 'good', 'good', 'good', 'good',\n",
       "        'risk', 'good', 'good', 'good', 'good', 'good', 'good', 'risk',\n",
       "        'good', 'good', 'risk', 'good', 'good', 'good', 'risk', 'good',\n",
       "        'good', 'good', 'good', 'good', 'good', 'good', 'good', 'risk',\n",
       "        'risk', 'good', 'risk', 'good', 'good', 'good', 'good', 'risk',\n",
       "        'good', 'good', 'good', 'good', 'good', 'good', 'good', 'good',\n",
       "        'good', 'good', 'good', 'risk', 'good', 'risk', 'good', 'good',\n",
       "        'risk', 'good', 'good', 'good', 'good', 'good', 'good', 'risk',\n",
       "        'good', 'risk', 'good', 'good', 'good', 'good', 'good', 'good',\n",
       "        'risk', 'good', 'good', 'risk', 'good', 'good', 'good', 'good',\n",
       "        'good', 'good', 'good', 'good', 'risk', 'good', 'risk', 'good',\n",
       "        'good', 'good', 'good', 'good', 'good', 'good', 'risk', 'good',\n",
       "        'risk', 'good', 'good', 'risk', 'good', 'risk', 'good', 'good',\n",
       "        'good', 'good', 'good', 'good', 'good', 'good', 'risk', 'good',\n",
       "        'good', 'risk', 'good', 'risk', 'risk', 'good', 'risk', 'good',\n",
       "        'good', 'good', 'good', 'good', 'good', 'good', 'risk', 'good',\n",
       "        'risk', 'good', 'good', 'good', 'risk', 'risk', 'good', 'good',\n",
       "        'good', 'good', 'good', 'good', 'good', 'good', 'risk', 'good',\n",
       "        'risk', 'good', 'good', 'good', 'good', 'good', 'good', 'good',\n",
       "        'risk', 'risk', 'good', 'good', 'risk', 'risk', 'good', 'good',\n",
       "        'good', 'good', 'good', 'good', 'good', 'good', 'good', 'risk',\n",
       "        'risk', 'good', 'good', 'good', 'risk', 'good', 'good', 'risk',\n",
       "        'risk', 'good', 'good', 'good', 'good', 'good', 'good', 'good',\n",
       "        'risk', 'good', 'good', 'good', 'good', 'good', 'good', 'good',\n",
       "        'risk', 'good', 'good', 'risk', 'good', 'risk', 'risk', 'risk',\n",
       "        'good', 'good', 'good', 'good', 'good', 'good', 'good', 'good',\n",
       "        'good', 'risk', 'good', 'good', 'good', 'risk', 'good', 'good',\n",
       "        'good', 'good', 'risk', 'good', 'risk', 'good', 'risk', 'good',\n",
       "        'good', 'good', 'risk', 'good', 'risk', 'good', 'good', 'risk',\n",
       "        'good', 'risk', 'risk', 'good', 'good', 'good', 'good', 'good',\n",
       "        'good', 'risk', 'good', 'good', 'risk', 'good', 'good', 'good',\n",
       "        'good', 'good', 'good', 'risk', 'good', 'risk', 'good', 'good',\n",
       "        'good', 'good', 'risk', 'good', 'good', 'risk', 'good', 'good',\n",
       "        'good', 'good', 'good', 'risk', 'good', 'good', 'risk', 'risk',\n",
       "        'risk', 'good', 'risk', 'good', 'good', 'good', 'good', 'good',\n",
       "        'good', 'good', 'good', 'good', 'good', 'risk', 'good', 'risk',\n",
       "        'good', 'good', 'good', 'good', 'risk', 'risk', 'good', 'good',\n",
       "        'good', 'good', 'good', 'risk', 'good', 'good', 'risk', 'good',\n",
       "        'good', 'good', 'good', 'good', 'risk', 'good', 'good', 'good',\n",
       "        'good', 'good', 'good', 'good', 'good', 'good', 'good', 'good',\n",
       "        'good', 'good', 'good', 'good', 'good', 'good', 'good', 'good',\n",
       "        'good', 'good', 'good', 'good', 'good', 'good', 'good', 'good',\n",
       "        'good', 'risk', 'good', 'good', 'good', 'good', 'risk', 'good',\n",
       "        'good', 'good', 'good', 'risk'], dtype=object),\n",
       " array(['good', 'good', 'good', 'risk', 'good', 'good', 'good', 'good',\n",
       "        'good', 'good', 'good', 'good', 'risk', 'good', 'risk', 'risk',\n",
       "        'good', 'good', 'good', 'good', 'risk', 'good', 'good', 'good',\n",
       "        'risk', 'good', 'risk', 'good', 'good', 'good', 'good', 'good',\n",
       "        'good', 'good', 'risk', 'good', 'good', 'good', 'good', 'good',\n",
       "        'risk', 'good', 'risk', 'good', 'good', 'risk', 'good', 'good',\n",
       "        'risk', 'good', 'risk', 'risk', 'good', 'risk', 'risk', 'good',\n",
       "        'good', 'good', 'good', 'good', 'good', 'good', 'good', 'good',\n",
       "        'good', 'good', 'good', 'risk', 'good', 'good', 'good', 'good',\n",
       "        'good', 'good', 'risk', 'good', 'good', 'risk', 'good', 'good',\n",
       "        'good', 'good', 'good', 'risk', 'good', 'good', 'good', 'risk',\n",
       "        'good', 'risk', 'good', 'good', 'risk', 'good', 'good', 'good',\n",
       "        'good', 'risk', 'risk', 'good', 'good', 'good', 'good', 'good',\n",
       "        'good', 'good', 'good', 'good', 'good', 'good', 'risk', 'good',\n",
       "        'good', 'good', 'risk', 'good', 'good', 'good', 'good', 'good',\n",
       "        'risk', 'good', 'good', 'good', 'good', 'good', 'good', 'good',\n",
       "        'good', 'good', 'risk', 'good', 'good', 'good', 'good', 'risk',\n",
       "        'good', 'good', 'good', 'good', 'good', 'good', 'good', 'good',\n",
       "        'good', 'good', 'good', 'good', 'good', 'risk', 'good', 'good',\n",
       "        'good', 'risk', 'good', 'risk', 'good', 'good', 'good', 'risk',\n",
       "        'good', 'good', 'good', 'good', 'good', 'good', 'good', 'good',\n",
       "        'good', 'good', 'risk', 'good', 'good', 'good', 'good', 'good',\n",
       "        'good', 'good', 'good', 'good'], dtype=object))"
      ]
     },
     "execution_count": 23,
     "metadata": {},
     "output_type": "execute_result"
    }
   ],
   "source": [
    "x_train,x_test, y_train, y_test"
   ]
  },
  {
   "cell_type": "code",
   "execution_count": 11,
   "metadata": {
    "ExecuteTime": {
     "end_time": "2021-12-28T21:03:43.391976Z",
     "start_time": "2021-12-28T21:03:39.755176Z"
    }
   },
   "outputs": [
    {
     "name": "stdout",
     "output_type": "stream",
     "text": [
      "0.7216666666666667\n"
     ]
    },
    {
     "data": {
      "text/plain": [
       "array([[134,  11],\n",
       "       [ 31,   4]], dtype=int64)"
      ]
     },
     "execution_count": 11,
     "metadata": {},
     "output_type": "execute_result"
    }
   ],
   "source": [
    "num_trees = 100\n",
    "max_features = 3   \n",
    "kfold = KFold(n_splits=10)\n",
    "model = RandomForestClassifier(n_estimators=num_trees, max_features=max_features)\n",
    "model.fit(x_train,y_train)\n",
    "pred = model.predict(x_test)\n",
    "results = cross_val_score(model, x,y, cv=kfold)\n",
    "\n",
    "print(results.mean())\n",
    "confusion_matrix(y_test, pred)"
   ]
  },
  {
   "cell_type": "code",
   "execution_count": 12,
   "metadata": {
    "ExecuteTime": {
     "end_time": "2021-12-28T21:03:43.563212Z",
     "start_time": "2021-12-28T21:03:43.552240Z"
    }
   },
   "outputs": [
    {
     "data": {
      "text/plain": [
       "array([0.75      , 0.68333333, 0.63333333, 0.66666667, 0.73333333,\n",
       "       0.63333333, 0.86666667, 0.7       , 0.75      , 0.8       ])"
      ]
     },
     "execution_count": 12,
     "metadata": {},
     "output_type": "execute_result"
    }
   ],
   "source": [
    "results"
   ]
  },
  {
   "cell_type": "code",
   "execution_count": 13,
   "metadata": {
    "ExecuteTime": {
     "end_time": "2021-12-28T21:03:44.189206Z",
     "start_time": "2021-12-28T21:03:43.645988Z"
    }
   },
   "outputs": [
    {
     "data": {
      "text/plain": [
       "RandomForestClassifier(max_features=3)"
      ]
     },
     "execution_count": 13,
     "metadata": {},
     "output_type": "execute_result"
    }
   ],
   "source": [
    "model.fit(x_train, y_train)"
   ]
  },
  {
   "cell_type": "code",
   "execution_count": 14,
   "metadata": {
    "ExecuteTime": {
     "end_time": "2021-12-28T21:03:44.300079Z",
     "start_time": "2021-12-28T21:03:44.271108Z"
    }
   },
   "outputs": [],
   "source": [
    "pred = model.predict(x_test)"
   ]
  },
  {
   "cell_type": "code",
   "execution_count": 15,
   "metadata": {
    "ExecuteTime": {
     "end_time": "2021-12-28T21:03:44.441491Z",
     "start_time": "2021-12-28T21:03:44.366562Z"
    }
   },
   "outputs": [
    {
     "data": {
      "text/plain": [
       "array(['good', 'good', 'good', 'good', 'good', 'good', 'good', 'good',\n",
       "       'good', 'good', 'good', 'good', 'risk', 'good', 'good', 'good',\n",
       "       'good', 'good', 'good', 'good', 'good', 'good', 'good', 'good',\n",
       "       'good', 'good', 'good', 'good', 'good', 'good', 'good', 'good',\n",
       "       'good', 'good', 'good', 'good', 'good', 'good', 'good', 'good',\n",
       "       'good', 'good', 'good', 'good', 'good', 'good', 'good', 'good',\n",
       "       'good', 'good', 'good', 'good', 'risk', 'good', 'good', 'good',\n",
       "       'good', 'good', 'good', 'good', 'good', 'good', 'good', 'good',\n",
       "       'good', 'good', 'good', 'good', 'good', 'good', 'risk', 'good',\n",
       "       'good', 'good', 'risk', 'good', 'good', 'good', 'good', 'good',\n",
       "       'good', 'good', 'good', 'good', 'good', 'good', 'good', 'good',\n",
       "       'good', 'good', 'risk', 'good', 'good', 'good', 'good', 'good',\n",
       "       'good', 'good', 'good', 'good', 'good', 'good', 'risk', 'good',\n",
       "       'good', 'good', 'good', 'good', 'good', 'good', 'good', 'good',\n",
       "       'good', 'good', 'good', 'good', 'good', 'good', 'good', 'good',\n",
       "       'good', 'good', 'good', 'good', 'risk', 'good', 'good', 'good',\n",
       "       'good', 'good', 'good', 'good', 'risk', 'good', 'good', 'good',\n",
       "       'good', 'good', 'risk', 'good', 'risk', 'good', 'good', 'good',\n",
       "       'good', 'good', 'good', 'good', 'good', 'good', 'good', 'good',\n",
       "       'good', 'risk', 'good', 'good', 'good', 'good', 'good', 'good',\n",
       "       'good', 'good', 'good', 'good', 'good', 'good', 'good', 'good',\n",
       "       'risk', 'good', 'good', 'good', 'good', 'good', 'good', 'good',\n",
       "       'good', 'good', 'good', 'good'], dtype=object)"
      ]
     },
     "execution_count": 15,
     "metadata": {},
     "output_type": "execute_result"
    }
   ],
   "source": [
    "pred"
   ]
  },
  {
   "cell_type": "markdown",
   "metadata": {},
   "source": [
    "#### create dataframe actual and prediction"
   ]
  },
  {
   "cell_type": "code",
   "execution_count": 16,
   "metadata": {
    "ExecuteTime": {
     "end_time": "2021-12-28T21:03:44.550983Z",
     "start_time": "2021-12-28T21:03:44.526228Z"
    }
   },
   "outputs": [],
   "source": [
    "data = pd.DataFrame({ \"actual\":y_test,\"prediction\":pred})"
   ]
  },
  {
   "cell_type": "code",
   "execution_count": 17,
   "metadata": {
    "ExecuteTime": {
     "end_time": "2021-12-28T21:03:44.676333Z",
     "start_time": "2021-12-28T21:03:44.648957Z"
    }
   },
   "outputs": [
    {
     "data": {
      "text/html": [
       "<div>\n",
       "<style scoped>\n",
       "    .dataframe tbody tr th:only-of-type {\n",
       "        vertical-align: middle;\n",
       "    }\n",
       "\n",
       "    .dataframe tbody tr th {\n",
       "        vertical-align: top;\n",
       "    }\n",
       "\n",
       "    .dataframe thead th {\n",
       "        text-align: right;\n",
       "    }\n",
       "</style>\n",
       "<table border=\"1\" class=\"dataframe\">\n",
       "  <thead>\n",
       "    <tr style=\"text-align: right;\">\n",
       "      <th></th>\n",
       "      <th>actual</th>\n",
       "      <th>prediction</th>\n",
       "    </tr>\n",
       "  </thead>\n",
       "  <tbody>\n",
       "    <tr>\n",
       "      <th>0</th>\n",
       "      <td>good</td>\n",
       "      <td>good</td>\n",
       "    </tr>\n",
       "    <tr>\n",
       "      <th>1</th>\n",
       "      <td>good</td>\n",
       "      <td>good</td>\n",
       "    </tr>\n",
       "    <tr>\n",
       "      <th>2</th>\n",
       "      <td>good</td>\n",
       "      <td>good</td>\n",
       "    </tr>\n",
       "    <tr>\n",
       "      <th>3</th>\n",
       "      <td>risk</td>\n",
       "      <td>good</td>\n",
       "    </tr>\n",
       "    <tr>\n",
       "      <th>4</th>\n",
       "      <td>good</td>\n",
       "      <td>good</td>\n",
       "    </tr>\n",
       "    <tr>\n",
       "      <th>...</th>\n",
       "      <td>...</td>\n",
       "      <td>...</td>\n",
       "    </tr>\n",
       "    <tr>\n",
       "      <th>175</th>\n",
       "      <td>good</td>\n",
       "      <td>good</td>\n",
       "    </tr>\n",
       "    <tr>\n",
       "      <th>176</th>\n",
       "      <td>good</td>\n",
       "      <td>good</td>\n",
       "    </tr>\n",
       "    <tr>\n",
       "      <th>177</th>\n",
       "      <td>good</td>\n",
       "      <td>good</td>\n",
       "    </tr>\n",
       "    <tr>\n",
       "      <th>178</th>\n",
       "      <td>good</td>\n",
       "      <td>good</td>\n",
       "    </tr>\n",
       "    <tr>\n",
       "      <th>179</th>\n",
       "      <td>good</td>\n",
       "      <td>good</td>\n",
       "    </tr>\n",
       "  </tbody>\n",
       "</table>\n",
       "<p>180 rows × 2 columns</p>\n",
       "</div>"
      ],
      "text/plain": [
       "    actual prediction\n",
       "0     good       good\n",
       "1     good       good\n",
       "2     good       good\n",
       "3     risk       good\n",
       "4     good       good\n",
       "..     ...        ...\n",
       "175   good       good\n",
       "176   good       good\n",
       "177   good       good\n",
       "178   good       good\n",
       "179   good       good\n",
       "\n",
       "[180 rows x 2 columns]"
      ]
     },
     "execution_count": 17,
     "metadata": {},
     "output_type": "execute_result"
    }
   ],
   "source": [
    "data"
   ]
  },
  {
   "cell_type": "code",
   "execution_count": 29,
   "metadata": {
    "ExecuteTime": {
     "end_time": "2021-12-28T21:05:45.291147Z",
     "start_time": "2021-12-28T21:05:45.281179Z"
    }
   },
   "outputs": [
    {
     "data": {
      "text/plain": [
       "Index(['City.Population', 'Work.Experience', 'Undergrad_NO', 'Undergrad_YES',\n",
       "       'Marital.Status_Divorced', 'Marital.Status_Married',\n",
       "       'Marital.Status_Single', 'Urban_NO', 'Urban_YES', 'TaxableIncome'],\n",
       "      dtype='object')"
      ]
     },
     "execution_count": 29,
     "metadata": {},
     "output_type": "execute_result"
    }
   ],
   "source": [
    " df1 = df.columns\n",
    "df1"
   ]
  },
  {
   "cell_type": "code",
   "execution_count": 30,
   "metadata": {
    "ExecuteTime": {
     "end_time": "2021-12-28T21:05:47.264103Z",
     "start_time": "2021-12-28T21:05:47.254094Z"
    }
   },
   "outputs": [],
   "source": [
    "df1 = df1.drop(['TaxableIncome'])"
   ]
  },
  {
   "cell_type": "code",
   "execution_count": 31,
   "metadata": {
    "ExecuteTime": {
     "end_time": "2021-12-28T21:06:03.444670Z",
     "start_time": "2021-12-28T21:06:03.404309Z"
    }
   },
   "outputs": [
    {
     "data": {
      "text/plain": [
       "array([0.52231718, 0.35205784, 0.01519636, 0.0160872 , 0.01822714,\n",
       "       0.02227575, 0.02063615, 0.01551851, 0.01768387])"
      ]
     },
     "execution_count": 31,
     "metadata": {},
     "output_type": "execute_result"
    }
   ],
   "source": [
    "feature = model.feature_importances_\n",
    "feature"
   ]
  },
  {
   "cell_type": "code",
   "execution_count": 21,
   "metadata": {
    "ExecuteTime": {
     "end_time": "2021-12-28T21:03:45.230062Z",
     "start_time": "2021-12-28T21:03:45.200994Z"
    }
   },
   "outputs": [],
   "source": [
    "data = pd.DataFrame({'columns':df1,\"importances\":feature})"
   ]
  },
  {
   "cell_type": "code",
   "execution_count": 22,
   "metadata": {
    "ExecuteTime": {
     "end_time": "2021-12-28T21:03:45.354198Z",
     "start_time": "2021-12-28T21:03:45.311204Z"
    }
   },
   "outputs": [
    {
     "data": {
      "text/html": [
       "<div>\n",
       "<style scoped>\n",
       "    .dataframe tbody tr th:only-of-type {\n",
       "        vertical-align: middle;\n",
       "    }\n",
       "\n",
       "    .dataframe tbody tr th {\n",
       "        vertical-align: top;\n",
       "    }\n",
       "\n",
       "    .dataframe thead th {\n",
       "        text-align: right;\n",
       "    }\n",
       "</style>\n",
       "<table border=\"1\" class=\"dataframe\">\n",
       "  <thead>\n",
       "    <tr style=\"text-align: right;\">\n",
       "      <th></th>\n",
       "      <th>columns</th>\n",
       "      <th>importances</th>\n",
       "    </tr>\n",
       "  </thead>\n",
       "  <tbody>\n",
       "    <tr>\n",
       "      <th>0</th>\n",
       "      <td>City.Population</td>\n",
       "      <td>0.522317</td>\n",
       "    </tr>\n",
       "    <tr>\n",
       "      <th>1</th>\n",
       "      <td>Work.Experience</td>\n",
       "      <td>0.352058</td>\n",
       "    </tr>\n",
       "    <tr>\n",
       "      <th>2</th>\n",
       "      <td>Undergrad_NO</td>\n",
       "      <td>0.015196</td>\n",
       "    </tr>\n",
       "    <tr>\n",
       "      <th>3</th>\n",
       "      <td>Undergrad_YES</td>\n",
       "      <td>0.016087</td>\n",
       "    </tr>\n",
       "    <tr>\n",
       "      <th>4</th>\n",
       "      <td>Marital.Status_Divorced</td>\n",
       "      <td>0.018227</td>\n",
       "    </tr>\n",
       "    <tr>\n",
       "      <th>5</th>\n",
       "      <td>Marital.Status_Married</td>\n",
       "      <td>0.022276</td>\n",
       "    </tr>\n",
       "    <tr>\n",
       "      <th>6</th>\n",
       "      <td>Marital.Status_Single</td>\n",
       "      <td>0.020636</td>\n",
       "    </tr>\n",
       "    <tr>\n",
       "      <th>7</th>\n",
       "      <td>Urban_NO</td>\n",
       "      <td>0.015519</td>\n",
       "    </tr>\n",
       "    <tr>\n",
       "      <th>8</th>\n",
       "      <td>Urban_YES</td>\n",
       "      <td>0.017684</td>\n",
       "    </tr>\n",
       "  </tbody>\n",
       "</table>\n",
       "</div>"
      ],
      "text/plain": [
       "                   columns  importances\n",
       "0          City.Population     0.522317\n",
       "1          Work.Experience     0.352058\n",
       "2             Undergrad_NO     0.015196\n",
       "3            Undergrad_YES     0.016087\n",
       "4  Marital.Status_Divorced     0.018227\n",
       "5   Marital.Status_Married     0.022276\n",
       "6    Marital.Status_Single     0.020636\n",
       "7                 Urban_NO     0.015519\n",
       "8                Urban_YES     0.017684"
      ]
     },
     "execution_count": 22,
     "metadata": {},
     "output_type": "execute_result"
    }
   ],
   "source": [
    "data"
   ]
  }
 ],
 "metadata": {
  "kernelspec": {
   "display_name": "Python 3",
   "language": "python",
   "name": "python3"
  },
  "language_info": {
   "codemirror_mode": {
    "name": "ipython",
    "version": 3
   },
   "file_extension": ".py",
   "mimetype": "text/x-python",
   "name": "python",
   "nbconvert_exporter": "python",
   "pygments_lexer": "ipython3",
   "version": "3.8.5"
  },
  "toc": {
   "base_numbering": 1,
   "nav_menu": {},
   "number_sections": true,
   "sideBar": true,
   "skip_h1_title": false,
   "title_cell": "Table of Contents",
   "title_sidebar": "Contents",
   "toc_cell": false,
   "toc_position": {},
   "toc_section_display": true,
   "toc_window_display": false
  },
  "varInspector": {
   "cols": {
    "lenName": 16,
    "lenType": 16,
    "lenVar": 40
   },
   "kernels_config": {
    "python": {
     "delete_cmd_postfix": "",
     "delete_cmd_prefix": "del ",
     "library": "var_list.py",
     "varRefreshCmd": "print(var_dic_list())"
    },
    "r": {
     "delete_cmd_postfix": ") ",
     "delete_cmd_prefix": "rm(",
     "library": "var_list.r",
     "varRefreshCmd": "cat(var_dic_list()) "
    }
   },
   "types_to_exclude": [
    "module",
    "function",
    "builtin_function_or_method",
    "instance",
    "_Feature"
   ],
   "window_display": false
  }
 },
 "nbformat": 4,
 "nbformat_minor": 5
}
